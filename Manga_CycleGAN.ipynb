{
  "nbformat": 4,
  "nbformat_minor": 0,
  "metadata": {
    "colab": {
      "name": "Manga CycleGAN.ipynb",
      "provenance": []
    },
    "kernelspec": {
      "name": "python3",
      "display_name": "Python 3"
    },
    "accelerator": "GPU"
  },
  "cells": [
    {
      "cell_type": "code",
      "metadata": {
        "id": "G8JFffpUOzF2",
        "colab_type": "code",
        "colab": {}
      },
      "source": [
        "from google.colab import files\n",
        "import itertools\n",
        "import random\n",
        "from PIL import Image\n",
        "import numpy as np\n",
        "import torch\n",
        "import torchvision\n",
        "import torchvision.datasets as datasets\n",
        "import torchvision.transforms as transforms\n",
        "import torch.utils as utils\n",
        "import matplotlib.pyplot as plt\n",
        "import torch.nn as nn\n",
        "import torch.nn.functional as F\n",
        "%matplotlib inline"
      ],
      "execution_count": 0,
      "outputs": []
    },
    {
      "cell_type": "code",
      "metadata": {
        "id": "K-hWnu60NYvx",
        "colab_type": "code",
        "outputId": "4f1a31c8-143e-4fbe-9ad2-d0afa864c69e",
        "colab": {
          "base_uri": "https://localhost:8080/",
          "height": 306
        }
      },
      "source": [
        "!nvidia-smi"
      ],
      "execution_count": 0,
      "outputs": [
        {
          "output_type": "stream",
          "text": [
            "Sun Dec 22 11:45:22 2019       \n",
            "+-----------------------------------------------------------------------------+\n",
            "| NVIDIA-SMI 440.44       Driver Version: 418.67       CUDA Version: 10.1     |\n",
            "|-------------------------------+----------------------+----------------------+\n",
            "| GPU  Name        Persistence-M| Bus-Id        Disp.A | Volatile Uncorr. ECC |\n",
            "| Fan  Temp  Perf  Pwr:Usage/Cap|         Memory-Usage | GPU-Util  Compute M. |\n",
            "|===============================+======================+======================|\n",
            "|   0  Tesla P100-PCIE...  Off  | 00000000:00:04.0 Off |                    0 |\n",
            "| N/A   52C    P0    30W / 250W |      0MiB / 16280MiB |      0%      Default |\n",
            "+-------------------------------+----------------------+----------------------+\n",
            "                                                                               \n",
            "+-----------------------------------------------------------------------------+\n",
            "| Processes:                                                       GPU Memory |\n",
            "|  GPU       PID   Type   Process name                             Usage      |\n",
            "|=============================================================================|\n",
            "|  No running processes found                                                 |\n",
            "+-----------------------------------------------------------------------------+\n"
          ],
          "name": "stdout"
        }
      ]
    },
    {
      "cell_type": "code",
      "metadata": {
        "id": "au5TmHMjPkWr",
        "colab_type": "code",
        "outputId": "3821d45f-4462-45d0-b4dd-3c2124980967",
        "colab": {
          "base_uri": "https://localhost:8080/",
          "height": 119
        }
      },
      "source": [
        "#!gdown https://drive.google.com/uc?id=1HYxzWzPvo4MBYL0JU79xJLg9zeBvha5A\n",
        "!gdown https://drive.google.com/uc?id=1H5DAXcplYWuxi2uwB3UCY-rqd-WxcHTw\n",
        "!unzip OP56.zip"
      ],
      "execution_count": 0,
      "outputs": [
        {
          "output_type": "stream",
          "text": [
            "Downloading...\n",
            "From: https://drive.google.com/uc?id=1H5DAXcplYWuxi2uwB3UCY-rqd-WxcHTw\n",
            "To: /content/OP56.zip\n",
            "1.37GB [00:13, 99.8MB/s]\n",
            "Archive:  OP56.zip\n",
            "replace OP56/Colored/Colored/002 (1).png? [y]es, [n]o, [A]ll, [N]one, [r]ename: N\n"
          ],
          "name": "stdout"
        }
      ]
    },
    {
      "cell_type": "code",
      "metadata": {
        "id": "I1OIdZ1fbWvv",
        "colab_type": "code",
        "outputId": "83845e94-3c4e-4bee-b8da-a3be03d54825",
        "colab": {
          "base_uri": "https://localhost:8080/",
          "height": 34
        }
      },
      "source": [
        "device=torch.device(\"cuda:0\" if (torch.cuda.is_available()) else \"cpu\")\n",
        "device"
      ],
      "execution_count": 0,
      "outputs": [
        {
          "output_type": "execute_result",
          "data": {
            "text/plain": [
              "device(type='cuda', index=0)"
            ]
          },
          "metadata": {
            "tags": []
          },
          "execution_count": 4
        }
      ]
    },
    {
      "cell_type": "code",
      "metadata": {
        "id": "bIxhnIbfQOk0",
        "colab_type": "code",
        "colab": {}
      },
      "source": [
        "# tf1=transforms.Compose([transforms.Resize((64,64)),transforms.ToTensor(),transforms.Normalize((0.5,0.5,0.5),(0.5,0.5,0.5))])\n",
        "# tf2=transforms.Compose([transforms.Grayscale(num_output_channels=1),transforms.Resize((64,64)),transforms.ToTensor(),transforms.Normalize((0.5,0.5,0.5),(0.5,0.5,0.5))])\n",
        "# #tf=transforms.Compose([transforms.ToTensor()])\n",
        "# color_dset=datasets.ImageFolder(root='/content/58/ColoredR',transform=tf1)\n",
        "# noncolor_dset=datasets.ImageFolder(root='/content/58/NonColoredR',transform=tf2)"
      ],
      "execution_count": 0,
      "outputs": []
    },
    {
      "cell_type": "code",
      "metadata": {
        "id": "ibf69lqfNqc-",
        "colab_type": "code",
        "colab": {}
      },
      "source": [
        "tf=transforms.Compose([transforms.Resize((128,128),Image.BICUBIC),transforms.RandomHorizontalFlip(),\\\n",
        "                       transforms.ToTensor(),transforms.Normalize((0.5,0.5,0.5),(0.5,0.5,0.5))])\n",
        "color_dset=datasets.ImageFolder(root='/content/OP56/Colored',transform=tf)\n",
        "noncolor_dset=datasets.ImageFolder(root='/content/OP56/NonColored',transform=tf)"
      ],
      "execution_count": 0,
      "outputs": []
    },
    {
      "cell_type": "code",
      "metadata": {
        "id": "D-izNGZ41jF8",
        "colab_type": "code",
        "colab": {}
      },
      "source": [
        "class StackDataset(torch.utils.data.Dataset):\n",
        "  def __init__(self,*datasets):\n",
        "    self.datasets=datasets\n",
        "    self.d1=datasets[0]\n",
        "    self.d2=datasets[1]\n",
        "  def __getitem__(self,i):\n",
        "    return self.d1[i],self.d2[i]\n",
        "  def __len__(self):\n",
        "    return min(len(d) for d in self.datasets)"
      ],
      "execution_count": 0,
      "outputs": []
    },
    {
      "cell_type": "code",
      "metadata": {
        "id": "WZnTW4bMYfvn",
        "colab_type": "code",
        "colab": {}
      },
      "source": [
        "dset=StackDataset(noncolor_dset,color_dset)\n",
        "dataloader=utils.data.DataLoader(dset,batch_size=1,shuffle=True,num_workers=1)\n",
        "#color_loader=utils.data.DataLoader(color_dset,batch_size=16,shuffle=False)\n",
        "#noncolor_loader=utils.data.DataLoader(noncolor_dset,batch_size=16,shuffle=False)"
      ],
      "execution_count": 0,
      "outputs": []
    },
    {
      "cell_type": "code",
      "metadata": {
        "id": "CnAWJmk3ZPBt",
        "colab_type": "code",
        "colab": {}
      },
      "source": [
        "# real_batch=next(iter(color_loader))\n",
        "# plt.figure(figsize=(24,24))\n",
        "# plt.axis(\"off\")\n",
        "# plt.title(\"Colored JoJo\")\n",
        "# plt.imshow(np.transpose(torchvision.utils.make_grid(real_batch[0].to(device)[:16], padding=2, normalize=True).cpu(),(1,2,0)))"
      ],
      "execution_count": 0,
      "outputs": []
    },
    {
      "cell_type": "code",
      "metadata": {
        "id": "yvyunu9mbw_e",
        "colab_type": "code",
        "colab": {}
      },
      "source": [
        "# real_batch = next(iter(noncolor_loader))\n",
        "# plt.figure(figsize=(16,16))\n",
        "# plt.axis(\"off\")\n",
        "# plt.title(\"Noncolored JoJo\")\n",
        "# plt.imshow(np.transpose(torchvision.utils.make_grid(real_batch[0].to(device)[:16], padding=2, normalize=True).cpu(),(1,2,0)))"
      ],
      "execution_count": 0,
      "outputs": []
    },
    {
      "cell_type": "code",
      "metadata": {
        "id": "tY_SfCaHc5bz",
        "colab_type": "code",
        "colab": {}
      },
      "source": [
        "def weights_init_normal(m):\n",
        "    classname=m.__class__.__name__\n",
        "    if classname.find('Conv')!=-1:\n",
        "        torch.nn.init.normal_(m.weight.data,0.0,0.02)\n",
        "    elif classname.find('BatchNorm2d')!=-1:\n",
        "        torch.nn.init.normal_(m.weight.data, 1.0, 0.02)\n",
        "        torch.nn.init.constant_(m.bias.data, 0.0)\n"
      ],
      "execution_count": 0,
      "outputs": []
    },
    {
      "cell_type": "code",
      "metadata": {
        "id": "HFTnGDJ-st7b",
        "colab_type": "code",
        "colab": {}
      },
      "source": [
        "nc=3"
      ],
      "execution_count": 0,
      "outputs": []
    },
    {
      "cell_type": "code",
      "metadata": {
        "id": "OAt4qbVdqKnC",
        "colab_type": "code",
        "colab": {}
      },
      "source": [
        "class Discriminator(nn.Module):\n",
        "  def __init__(self):\n",
        "    super(Discriminator,self).__init__()\n",
        "    self.layers=nn.Sequential(\n",
        "        nn.Conv2d(nc,64,4,2,1),\n",
        "        nn.LeakyReLU(0.2,inplace=True),\n",
        "        nn.Conv2d(64,128,4,2,1),\n",
        "        nn.InstanceNorm2d(128),\n",
        "        nn.LeakyReLU(0.2,inplace=True),\n",
        "        nn.Conv2d(128,256,4,2,1),\n",
        "        nn.InstanceNorm2d(256),\n",
        "        nn.LeakyReLU(0.2,inplace=True),\n",
        "        nn.Conv2d(256,512,4,2,1),\n",
        "        nn.InstanceNorm2d(512),\n",
        "        nn.LeakyReLU(0.2,inplace=True),\n",
        "        nn.Conv2d(512,1,4,padding=1)\n",
        "    )\n",
        "  def forward(self,x):\n",
        "    x=self.layers(x)\n",
        "    #return x\n",
        "    return F.avg_pool2d(x,x.size()[2:]).view(x.size()[0])"
      ],
      "execution_count": 0,
      "outputs": []
    },
    {
      "cell_type": "code",
      "metadata": {
        "id": "fjof826f10uX",
        "colab_type": "code",
        "colab": {}
      },
      "source": [
        "class ResBlock(nn.Module):\n",
        "  def __init__(self):\n",
        "    super(ResBlock,self).__init__()\n",
        "    self.layers=nn.Sequential(\n",
        "        nn.ReflectionPad2d(1),\n",
        "        nn.InstanceNorm2d(256),\n",
        "        nn.ReLU(inplace=True),\n",
        "        nn.Conv2d(256,256,3),\n",
        "        nn.ReflectionPad2d(1),\n",
        "        nn.InstanceNorm2d(256),\n",
        "        nn.ReLU(inplace=True),\n",
        "        nn.Conv2d(256,256,3)\n",
        "    )\n",
        "  def forward(self,x):\n",
        "    return x+self.layers(x)"
      ],
      "execution_count": 0,
      "outputs": []
    },
    {
      "cell_type": "code",
      "metadata": {
        "id": "KQkzUNpf14Kk",
        "colab_type": "code",
        "colab": {}
      },
      "source": [
        "class Generator(nn.Module):\n",
        "  def __init__(self,num_blocks=9):\n",
        "    super(Generator,self).__init__()\n",
        "    model=[\n",
        "           nn.ReflectionPad2d(3),\n",
        "           nn.Conv2d(nc,64,7),\n",
        "           nn.InstanceNorm2d(64),\n",
        "           nn.ReLU(inplace=True)\n",
        "    ]\n",
        "    model+=[\n",
        "            nn.Conv2d(64,128,3,stride=2,padding=1),\n",
        "            nn.InstanceNorm2d(128),\n",
        "            nn.ReLU(inplace=True),\n",
        "            nn.Conv2d(128,256,3,stride=2,padding=1),\n",
        "            nn.InstanceNorm2d(256),\n",
        "            nn.ReLU(inplace=True)\n",
        "    ]\n",
        "    for _ in range(num_blocks):\n",
        "      model+=[ResBlock()]\n",
        "\n",
        "    model+=[\n",
        "            nn.ConvTranspose2d(256,128,3,stride=2,padding=1,output_padding=1),\n",
        "            nn.InstanceNorm2d(128),\n",
        "            nn.ReLU(inplace=True),\n",
        "            nn.ConvTranspose2d(128,64,3,stride=2,padding=1,output_padding=1),\n",
        "            nn.InstanceNorm2d(64),\n",
        "            nn.ReLU(inplace=True)\n",
        "    ]\n",
        "    model+=[\n",
        "            nn.ReflectionPad2d(3),\n",
        "            nn.Conv2d(64,nc,7),\n",
        "            nn.Tanh()\n",
        "    ]\n",
        "\n",
        "    self.layers=nn.Sequential(*model)\n",
        "\n",
        "  def forward(self,x):\n",
        "    return self.layers(x)"
      ],
      "execution_count": 0,
      "outputs": []
    },
    {
      "cell_type": "code",
      "metadata": {
        "id": "9vN-_LIx2DYc",
        "colab_type": "code",
        "outputId": "788e7a89-c673-4db5-d70f-1ae48aa216fc",
        "colab": {
          "base_uri": "https://localhost:8080/",
          "height": 289
        }
      },
      "source": [
        "g_a2b=Generator().to(device)\n",
        "g_a2b.apply(weights_init_normal)\n",
        "g_b2a=Generator().to(device)\n",
        "g_b2a.apply(weights_init_normal)\n",
        "d_a=Discriminator().to(device)\n",
        "d_a.apply(weights_init_normal)\n",
        "d_b=Discriminator().to(device)\n",
        "d_b.apply(weights_init_normal)"
      ],
      "execution_count": 0,
      "outputs": [
        {
          "output_type": "execute_result",
          "data": {
            "text/plain": [
              "Discriminator(\n",
              "  (layers): Sequential(\n",
              "    (0): Conv2d(3, 64, kernel_size=(4, 4), stride=(2, 2), padding=(1, 1))\n",
              "    (1): LeakyReLU(negative_slope=0.2, inplace=True)\n",
              "    (2): Conv2d(64, 128, kernel_size=(4, 4), stride=(2, 2), padding=(1, 1))\n",
              "    (3): InstanceNorm2d(128, eps=1e-05, momentum=0.1, affine=False, track_running_stats=False)\n",
              "    (4): LeakyReLU(negative_slope=0.2, inplace=True)\n",
              "    (5): Conv2d(128, 256, kernel_size=(4, 4), stride=(2, 2), padding=(1, 1))\n",
              "    (6): InstanceNorm2d(256, eps=1e-05, momentum=0.1, affine=False, track_running_stats=False)\n",
              "    (7): LeakyReLU(negative_slope=0.2, inplace=True)\n",
              "    (8): Conv2d(256, 512, kernel_size=(4, 4), stride=(2, 2), padding=(1, 1))\n",
              "    (9): InstanceNorm2d(512, eps=1e-05, momentum=0.1, affine=False, track_running_stats=False)\n",
              "    (10): LeakyReLU(negative_slope=0.2, inplace=True)\n",
              "    (11): Conv2d(512, 1, kernel_size=(4, 4), stride=(1, 1), padding=(1, 1))\n",
              "  )\n",
              ")"
            ]
          },
          "metadata": {
            "tags": []
          },
          "execution_count": 16
        }
      ]
    },
    {
      "cell_type": "code",
      "metadata": {
        "id": "F2xh-NcNZtJa",
        "colab_type": "code",
        "colab": {}
      },
      "source": [
        "class ReplayBuffer():\n",
        "    def __init__(self, max_size=50):\n",
        "        assert (max_size > 0), 'Empty buffer or trying to create a black hole. Be careful.'\n",
        "        self.max_size = max_size\n",
        "        self.data = []\n",
        "\n",
        "    def push_and_pop(self, data):\n",
        "        to_return = []\n",
        "        for element in data.data:\n",
        "            element = torch.unsqueeze(element, 0)\n",
        "            if len(self.data) < self.max_size:\n",
        "                self.data.append(element)\n",
        "                to_return.append(element)\n",
        "            else:\n",
        "                if random.uniform(0,1) > 0.5:\n",
        "                    i = random.randint(0, self.max_size-1)\n",
        "                    to_return.append(self.data[i].clone())\n",
        "                    self.data[i] = element\n",
        "                else:\n",
        "                    to_return.append(element)\n",
        "        return torch.cat(to_return)\n",
        "\n",
        "class LambdaLR():\n",
        "    def __init__(self, n_epochs, offset, decay_start_epoch):\n",
        "        assert ((n_epochs - decay_start_epoch) > 0), \"Decay must start before the training session ends!\"\n",
        "        self.n_epochs = n_epochs\n",
        "        self.offset = offset\n",
        "        self.decay_start_epoch = decay_start_epoch\n",
        "\n",
        "    def step(self, epoch):\n",
        "        return 1.0 - max(0, epoch + self.offset - self.decay_start_epoch)/(self.n_epochs - self.decay_start_epoch)\n"
      ],
      "execution_count": 0,
      "outputs": []
    },
    {
      "cell_type": "code",
      "metadata": {
        "id": "EKjzVy__0HGd",
        "colab_type": "code",
        "colab": {}
      },
      "source": [
        "num_epochs=200"
      ],
      "execution_count": 0,
      "outputs": []
    },
    {
      "cell_type": "code",
      "metadata": {
        "id": "VtxE_AD7esr7",
        "colab_type": "code",
        "colab": {}
      },
      "source": [
        "criterion_GAN=torch.nn.MSELoss()\n",
        "criterion_cycle=torch.nn.L1Loss()\n",
        "criterion_identity=torch.nn.L1Loss()\n",
        "\n",
        "optimizer_g=torch.optim.Adam(itertools.chain(g_a2b.parameters(),g_b2a.parameters()),lr=0.0002,betas=(0.5,0.999))\n",
        "optimizer_d_a=torch.optim.Adam(d_a.parameters(),lr=0.0002,betas=(0.5,0.999))\n",
        "optimizer_d_b=torch.optim.Adam(d_b.parameters(),lr=0.0002,betas=(0.5,0.999))\n",
        "\n",
        "# lr_scheduler_g=torch.optim.lr_scheduler.ExponentialLR(optimizer_g, gamma=0.05,last_epoch=-1)\n",
        "# lr_scheduler_d_a=torch.optim.lr_scheduler.ExponentialLR(optimizer_d_a,gamma=0.1,last_epoch=-1)\n",
        "# lr_scheduler_d_b=torch.optim.lr_scheduler.ExponentialLR(optimizer_d_b,gamma=0.1,last_epoch=-1)\n",
        "\n",
        "lr_scheduler_g=torch.optim.lr_scheduler.LambdaLR(optimizer_g, lr_lambda=LambdaLR(200,0,100).step)\n",
        "lr_scheduler_d_a=torch.optim.lr_scheduler.LambdaLR(optimizer_d_a, lr_lambda=LambdaLR(200,0,100).step)\n",
        "lr_scheduler_d_b=torch.optim.lr_scheduler.LambdaLR(optimizer_d_b, lr_lambda=LambdaLR(200,0,100).step)\n",
        "\n",
        "bsz=1\n",
        "target_real=torch.ones(bsz).to(device)\n",
        "target_fake=torch.zeros(bsz).to(device)\n",
        "\n",
        "fake_a_buffer=ReplayBuffer()\n",
        "fake_b_buffer=ReplayBuffer()"
      ],
      "execution_count": 0,
      "outputs": []
    },
    {
      "cell_type": "code",
      "metadata": {
        "id": "DUYMCd-x0ONR",
        "colab_type": "code",
        "outputId": "d083cbb7-e9ae-48d1-897a-36474aa63466",
        "colab": {
          "base_uri": "https://localhost:8080/",
          "height": 1000
        }
      },
      "source": [
        "#Training\n",
        "\n",
        "for epoch in range(1,num_epochs+1):\n",
        "  for i,data in enumerate(dataloader,0):\n",
        "    real_a=data[0][0].to(device)\n",
        "    real_b=data[1][0].to(device)\n",
        "\n",
        "    optimizer_g.zero_grad()\n",
        "\n",
        "    #Identity Loss\n",
        "    same_a=g_b2a(real_a)\n",
        "    loss_identity_a=criterion_identity(same_a,real_a)*5.0\n",
        "    same_b=g_a2b(real_b)\n",
        "    loss_identity_b=criterion_identity(same_b,real_b)*5.0\n",
        "\n",
        "    #GAN Loss\n",
        "    fake_b=g_a2b(real_a)\n",
        "    pred_fake=d_b(fake_b)\n",
        "    loss_GAN_a2b=criterion_GAN(pred_fake,target_real)\n",
        "    fake_a=g_b2a(real_b)\n",
        "    pred_fake=d_a(fake_a)\n",
        "    loss_GAN_b2a=criterion_GAN(pred_fake,target_real)\n",
        "\n",
        "    #Cycle Loss\n",
        "    recovered_a=g_b2a(fake_b)\n",
        "    loss_cycle_aba=criterion_cycle(recovered_a,real_a)*10.0\n",
        "    recovered_b=g_a2b(fake_a)\n",
        "    loss_cycle_bab=criterion_cycle(recovered_b,real_b)*10.0\n",
        "\n",
        "    #Total loss\n",
        "    loss_g=loss_identity_a+loss_identity_b+loss_GAN_a2b+loss_GAN_b2a+loss_cycle_aba+loss_cycle_bab\n",
        "    loss_g.backward()\n",
        "    optimizer_g.step()\n",
        "\n",
        "    optimizer_d_a.zero_grad()\n",
        "\n",
        "    pred_real=d_a(real_a)\n",
        "    loss_d_real=criterion_GAN(pred_real,target_real)\n",
        "    # Fake loss\n",
        "    fake_a=fake_a_buffer.push_and_pop(fake_a)\n",
        "    pred_fake=d_a(fake_a.detach())\n",
        "    loss_d_fake=criterion_GAN(pred_fake,target_fake)\n",
        "    # Total loss\n",
        "    loss_d_a=(loss_d_real+loss_d_fake)*0.5\n",
        "    loss_d_a.backward()\n",
        "    optimizer_d_a.step()\n",
        "\n",
        "    optimizer_d_b.zero_grad()\n",
        "\n",
        "    pred_real=d_b(real_b)\n",
        "    loss_d_real=criterion_GAN(pred_real,target_real)\n",
        "        \n",
        "    # Fake loss\n",
        "    fake_b=fake_b_buffer.push_and_pop(fake_b)\n",
        "    pred_fake=d_b(fake_b.detach())\n",
        "    loss_d_fake=criterion_GAN(pred_fake,target_fake)\n",
        "\n",
        "    # Total loss\n",
        "    loss_d_b=(loss_d_real+loss_d_fake)*0.5\n",
        "    loss_d_b.backward()\n",
        "\n",
        "    optimizer_d_b.step()\n",
        "\n",
        "    if i%500==0:\n",
        "      print('[%d/%d][%d/%d]\\tloss_d_a: %.5f\\tloss_d_b: %.5f\\tloss_g: %.5f'\n",
        "      % (epoch, num_epochs, i, len(dataloader),\n",
        "      loss_d_a.item(),loss_d_b.item(),loss_g.item()))\n",
        "\n",
        "  lr_scheduler_g.step()\n",
        "  lr_scheduler_d_a.step()\n",
        "  lr_scheduler_d_a.step()\n",
        "\n",
        "  if epoch%20==0:\n",
        "    torch.save(g_a2b.state_dict(),'g_a2b.pth')\n",
        "    torch.save(g_b2a.state_dict(),'g_b2a.pth')\n",
        "    torch.save(d_a.state_dict(),'d_a.pth')\n",
        "    torch.save(d_b.state_dict(),'d_b.pth')"
      ],
      "execution_count": 0,
      "outputs": [
        {
          "output_type": "stream",
          "text": [
            "[1/200][0/1018]\tloss_d_a: 0.49942\tloss_d_b: 0.57372\tloss_g: 26.54042\n",
            "[1/200][500/1018]\tloss_d_a: 0.38739\tloss_d_b: 0.39917\tloss_g: 5.94155\n",
            "[1/200][1000/1018]\tloss_d_a: 0.21690\tloss_d_b: 0.16504\tloss_g: 4.84602\n",
            "[2/200][0/1018]\tloss_d_a: 0.27700\tloss_d_b: 0.15195\tloss_g: 4.30257\n",
            "[2/200][500/1018]\tloss_d_a: 0.13662\tloss_d_b: 0.11240\tloss_g: 7.03288\n",
            "[2/200][1000/1018]\tloss_d_a: 0.34939\tloss_d_b: 0.22308\tloss_g: 4.73126\n",
            "[3/200][0/1018]\tloss_d_a: 0.09657\tloss_d_b: 0.24307\tloss_g: 5.05361\n",
            "[3/200][500/1018]\tloss_d_a: 0.18016\tloss_d_b: 0.30692\tloss_g: 4.01853\n",
            "[3/200][1000/1018]\tloss_d_a: 0.21343\tloss_d_b: 0.31785\tloss_g: 4.81631\n",
            "[4/200][0/1018]\tloss_d_a: 0.14426\tloss_d_b: 0.36269\tloss_g: 3.00940\n",
            "[4/200][500/1018]\tloss_d_a: 0.19641\tloss_d_b: 0.05808\tloss_g: 5.27439\n",
            "[4/200][1000/1018]\tloss_d_a: 0.17130\tloss_d_b: 0.46004\tloss_g: 3.70026\n",
            "[5/200][0/1018]\tloss_d_a: 0.40388\tloss_d_b: 0.27647\tloss_g: 2.67815\n",
            "[5/200][500/1018]\tloss_d_a: 0.14960\tloss_d_b: 0.19487\tloss_g: 4.00438\n",
            "[5/200][1000/1018]\tloss_d_a: 0.47839\tloss_d_b: 0.15179\tloss_g: 3.44141\n",
            "[6/200][0/1018]\tloss_d_a: 0.26485\tloss_d_b: 0.25984\tloss_g: 3.25541\n",
            "[6/200][500/1018]\tloss_d_a: 0.22438\tloss_d_b: 0.60392\tloss_g: 3.41813\n",
            "[6/200][1000/1018]\tloss_d_a: 0.32346\tloss_d_b: 0.14155\tloss_g: 3.66554\n",
            "[7/200][0/1018]\tloss_d_a: 0.06686\tloss_d_b: 0.14593\tloss_g: 3.98395\n",
            "[7/200][500/1018]\tloss_d_a: 0.04223\tloss_d_b: 0.28710\tloss_g: 3.43135\n",
            "[7/200][1000/1018]\tloss_d_a: 0.05915\tloss_d_b: 0.26784\tloss_g: 3.95555\n",
            "[8/200][0/1018]\tloss_d_a: 0.19141\tloss_d_b: 0.23459\tloss_g: 5.12487\n",
            "[8/200][500/1018]\tloss_d_a: 0.05252\tloss_d_b: 0.38819\tloss_g: 4.72249\n",
            "[8/200][1000/1018]\tloss_d_a: 0.08736\tloss_d_b: 0.20155\tloss_g: 3.81733\n",
            "[9/200][0/1018]\tloss_d_a: 0.18841\tloss_d_b: 0.28533\tloss_g: 2.81506\n",
            "[9/200][500/1018]\tloss_d_a: 0.24087\tloss_d_b: 0.52087\tloss_g: 3.71484\n",
            "[9/200][1000/1018]\tloss_d_a: 0.00806\tloss_d_b: 0.38477\tloss_g: 3.58090\n",
            "[10/200][0/1018]\tloss_d_a: 0.13830\tloss_d_b: 0.05212\tloss_g: 3.79400\n",
            "[10/200][500/1018]\tloss_d_a: 0.16428\tloss_d_b: 0.27052\tloss_g: 3.32327\n",
            "[10/200][1000/1018]\tloss_d_a: 0.23889\tloss_d_b: 0.32692\tloss_g: 6.21288\n",
            "[11/200][0/1018]\tloss_d_a: 0.21094\tloss_d_b: 0.15034\tloss_g: 4.36209\n",
            "[11/200][500/1018]\tloss_d_a: 0.05429\tloss_d_b: 0.23874\tloss_g: 2.71198\n",
            "[11/200][1000/1018]\tloss_d_a: 0.50671\tloss_d_b: 0.08979\tloss_g: 2.97459\n",
            "[12/200][0/1018]\tloss_d_a: 0.20941\tloss_d_b: 0.67032\tloss_g: 2.48092\n",
            "[12/200][500/1018]\tloss_d_a: 0.03579\tloss_d_b: 0.35231\tloss_g: 3.77221\n",
            "[12/200][1000/1018]\tloss_d_a: 0.20090\tloss_d_b: 0.07776\tloss_g: 2.81899\n",
            "[13/200][0/1018]\tloss_d_a: 0.30163\tloss_d_b: 0.21444\tloss_g: 2.82182\n",
            "[13/200][500/1018]\tloss_d_a: 0.20843\tloss_d_b: 0.36536\tloss_g: 3.07990\n",
            "[13/200][1000/1018]\tloss_d_a: 0.17518\tloss_d_b: 0.37933\tloss_g: 2.30236\n",
            "[14/200][0/1018]\tloss_d_a: 0.16799\tloss_d_b: 0.06147\tloss_g: 2.86153\n",
            "[14/200][500/1018]\tloss_d_a: 0.20429\tloss_d_b: 0.07206\tloss_g: 4.03750\n",
            "[14/200][1000/1018]\tloss_d_a: 0.05313\tloss_d_b: 0.15716\tloss_g: 4.32861\n",
            "[15/200][0/1018]\tloss_d_a: 0.02889\tloss_d_b: 0.21991\tloss_g: 5.12686\n",
            "[15/200][500/1018]\tloss_d_a: 0.15379\tloss_d_b: 0.42145\tloss_g: 6.75033\n",
            "[15/200][1000/1018]\tloss_d_a: 0.20161\tloss_d_b: 0.34179\tloss_g: 3.05878\n",
            "[16/200][0/1018]\tloss_d_a: 0.25643\tloss_d_b: 0.02912\tloss_g: 2.79793\n",
            "[16/200][500/1018]\tloss_d_a: 0.00231\tloss_d_b: 0.07379\tloss_g: 3.99925\n",
            "[16/200][1000/1018]\tloss_d_a: 0.00066\tloss_d_b: 0.24099\tloss_g: 3.46310\n",
            "[17/200][0/1018]\tloss_d_a: 0.04895\tloss_d_b: 0.26613\tloss_g: 3.69764\n",
            "[17/200][500/1018]\tloss_d_a: 0.00177\tloss_d_b: 0.00715\tloss_g: 3.97851\n",
            "[17/200][1000/1018]\tloss_d_a: 0.04018\tloss_d_b: 0.13493\tloss_g: 2.93527\n",
            "[18/200][0/1018]\tloss_d_a: 0.00156\tloss_d_b: 0.03564\tloss_g: 3.39477\n",
            "[18/200][500/1018]\tloss_d_a: 0.20490\tloss_d_b: 0.09639\tloss_g: 2.68051\n",
            "[18/200][1000/1018]\tloss_d_a: 0.00846\tloss_d_b: 0.11009\tloss_g: 6.59966\n",
            "[19/200][0/1018]\tloss_d_a: 0.00546\tloss_d_b: 0.04786\tloss_g: 3.75237\n",
            "[19/200][500/1018]\tloss_d_a: 0.01354\tloss_d_b: 0.29850\tloss_g: 3.45560\n",
            "[19/200][1000/1018]\tloss_d_a: 0.01068\tloss_d_b: 0.17609\tloss_g: 4.06912\n",
            "[20/200][0/1018]\tloss_d_a: 0.00376\tloss_d_b: 0.12182\tloss_g: 3.19184\n",
            "[20/200][500/1018]\tloss_d_a: 0.00038\tloss_d_b: 0.20087\tloss_g: 3.87770\n",
            "[20/200][1000/1018]\tloss_d_a: 0.06977\tloss_d_b: 0.19763\tloss_g: 4.02555\n",
            "[21/200][0/1018]\tloss_d_a: 0.01067\tloss_d_b: 0.16607\tloss_g: 3.73435\n",
            "[21/200][500/1018]\tloss_d_a: 0.00292\tloss_d_b: 0.18288\tloss_g: 3.39993\n",
            "[21/200][1000/1018]\tloss_d_a: 0.00190\tloss_d_b: 0.10572\tloss_g: 3.54070\n",
            "[22/200][0/1018]\tloss_d_a: 0.00016\tloss_d_b: 0.09317\tloss_g: 3.98665\n",
            "[22/200][500/1018]\tloss_d_a: 0.00031\tloss_d_b: 0.08294\tloss_g: 4.25114\n",
            "[22/200][1000/1018]\tloss_d_a: 0.00023\tloss_d_b: 0.01662\tloss_g: 4.52332\n",
            "[23/200][0/1018]\tloss_d_a: 0.00216\tloss_d_b: 0.11476\tloss_g: 4.33032\n",
            "[23/200][500/1018]\tloss_d_a: 0.00679\tloss_d_b: 0.06682\tloss_g: 2.06345\n",
            "[23/200][1000/1018]\tloss_d_a: 0.05088\tloss_d_b: 0.06726\tloss_g: 3.65268\n",
            "[24/200][0/1018]\tloss_d_a: 0.00913\tloss_d_b: 0.44491\tloss_g: 3.16621\n",
            "[24/200][500/1018]\tloss_d_a: 0.29923\tloss_d_b: 0.37925\tloss_g: 4.40524\n",
            "[24/200][1000/1018]\tloss_d_a: 0.00108\tloss_d_b: 0.05121\tloss_g: 4.96959\n",
            "[25/200][0/1018]\tloss_d_a: 0.00434\tloss_d_b: 0.16569\tloss_g: 3.58830\n",
            "[25/200][500/1018]\tloss_d_a: 0.00228\tloss_d_b: 0.09667\tloss_g: 3.50448\n",
            "[25/200][1000/1018]\tloss_d_a: 0.00007\tloss_d_b: 0.04564\tloss_g: 4.08803\n",
            "[26/200][0/1018]\tloss_d_a: 0.00238\tloss_d_b: 0.17477\tloss_g: 3.92918\n",
            "[26/200][500/1018]\tloss_d_a: 0.00033\tloss_d_b: 0.07690\tloss_g: 3.31746\n",
            "[26/200][1000/1018]\tloss_d_a: 0.00432\tloss_d_b: 0.09884\tloss_g: 3.41666\n",
            "[27/200][0/1018]\tloss_d_a: 0.00051\tloss_d_b: 0.09286\tloss_g: 2.86026\n",
            "[27/200][500/1018]\tloss_d_a: 0.00026\tloss_d_b: 0.05621\tloss_g: 3.77480\n",
            "[27/200][1000/1018]\tloss_d_a: 0.00293\tloss_d_b: 0.12566\tloss_g: 3.38899\n",
            "[28/200][0/1018]\tloss_d_a: 0.00050\tloss_d_b: 0.00290\tloss_g: 4.05457\n",
            "[28/200][500/1018]\tloss_d_a: 0.00947\tloss_d_b: 0.23370\tloss_g: 3.26670\n",
            "[28/200][1000/1018]\tloss_d_a: 0.00149\tloss_d_b: 0.16346\tloss_g: 3.95385\n",
            "[29/200][0/1018]\tloss_d_a: 0.04985\tloss_d_b: 0.03234\tloss_g: 3.43716\n",
            "[29/200][500/1018]\tloss_d_a: 0.00221\tloss_d_b: 0.09582\tloss_g: 4.53456\n",
            "[29/200][1000/1018]\tloss_d_a: 0.00048\tloss_d_b: 0.07077\tloss_g: 3.97373\n",
            "[30/200][0/1018]\tloss_d_a: 0.00058\tloss_d_b: 0.05352\tloss_g: 3.80150\n",
            "[30/200][500/1018]\tloss_d_a: 0.00416\tloss_d_b: 0.00312\tloss_g: 3.58792\n",
            "[30/200][1000/1018]\tloss_d_a: 0.00006\tloss_d_b: 0.02842\tloss_g: 3.26341\n",
            "[31/200][0/1018]\tloss_d_a: 0.00031\tloss_d_b: 0.01463\tloss_g: 3.31150\n",
            "[31/200][500/1018]\tloss_d_a: 0.00005\tloss_d_b: 0.26576\tloss_g: 3.08416\n",
            "[31/200][1000/1018]\tloss_d_a: 0.57847\tloss_d_b: 0.03555\tloss_g: 3.96344\n",
            "[32/200][0/1018]\tloss_d_a: 0.14509\tloss_d_b: 0.03042\tloss_g: 2.46863\n",
            "[32/200][500/1018]\tloss_d_a: 0.36596\tloss_d_b: 0.07019\tloss_g: 2.91996\n",
            "[32/200][1000/1018]\tloss_d_a: 0.00085\tloss_d_b: 0.11314\tloss_g: 4.28697\n",
            "[33/200][0/1018]\tloss_d_a: 0.00103\tloss_d_b: 0.12171\tloss_g: 3.37141\n",
            "[33/200][500/1018]\tloss_d_a: 0.00048\tloss_d_b: 0.05004\tloss_g: 3.60788\n",
            "[33/200][1000/1018]\tloss_d_a: 0.00045\tloss_d_b: 0.05448\tloss_g: 3.89743\n",
            "[34/200][0/1018]\tloss_d_a: 0.00038\tloss_d_b: 0.01462\tloss_g: 3.91570\n",
            "[34/200][500/1018]\tloss_d_a: 0.00003\tloss_d_b: 0.20624\tloss_g: 4.84244\n",
            "[34/200][1000/1018]\tloss_d_a: 0.03366\tloss_d_b: 0.03541\tloss_g: 4.07534\n",
            "[35/200][0/1018]\tloss_d_a: 0.00638\tloss_d_b: 0.09742\tloss_g: 4.57100\n",
            "[35/200][500/1018]\tloss_d_a: 0.00774\tloss_d_b: 0.04556\tloss_g: 3.77298\n",
            "[35/200][1000/1018]\tloss_d_a: 0.43425\tloss_d_b: 0.20802\tloss_g: 4.18441\n",
            "[36/200][0/1018]\tloss_d_a: 0.09352\tloss_d_b: 0.14017\tloss_g: 3.02531\n",
            "[36/200][500/1018]\tloss_d_a: 0.28777\tloss_d_b: 0.06304\tloss_g: 2.45071\n",
            "[36/200][1000/1018]\tloss_d_a: 0.00086\tloss_d_b: 0.00780\tloss_g: 3.95245\n",
            "[37/200][0/1018]\tloss_d_a: 0.00175\tloss_d_b: 0.18375\tloss_g: 3.78937\n",
            "[37/200][500/1018]\tloss_d_a: 0.00229\tloss_d_b: 0.00514\tloss_g: 3.32725\n",
            "[37/200][1000/1018]\tloss_d_a: 0.00149\tloss_d_b: 0.25293\tloss_g: 3.66911\n",
            "[38/200][0/1018]\tloss_d_a: 0.00013\tloss_d_b: 0.03747\tloss_g: 3.68838\n",
            "[38/200][500/1018]\tloss_d_a: 0.00078\tloss_d_b: 0.04927\tloss_g: 4.09037\n",
            "[38/200][1000/1018]\tloss_d_a: 0.67119\tloss_d_b: 0.04967\tloss_g: 3.18113\n",
            "[39/200][0/1018]\tloss_d_a: 0.14177\tloss_d_b: 0.00123\tloss_g: 3.99401\n",
            "[39/200][500/1018]\tloss_d_a: 0.00313\tloss_d_b: 0.05480\tloss_g: 3.58813\n",
            "[39/200][1000/1018]\tloss_d_a: 0.02400\tloss_d_b: 0.20297\tloss_g: 3.06482\n",
            "[40/200][0/1018]\tloss_d_a: 0.00208\tloss_d_b: 0.30371\tloss_g: 2.89337\n",
            "[40/200][500/1018]\tloss_d_a: 0.00010\tloss_d_b: 0.17384\tloss_g: 3.23371\n",
            "[40/200][1000/1018]\tloss_d_a: 0.00048\tloss_d_b: 0.08529\tloss_g: 2.80314\n",
            "[41/200][0/1018]\tloss_d_a: 0.00191\tloss_d_b: 0.01368\tloss_g: 3.79503\n",
            "[41/200][500/1018]\tloss_d_a: 0.00563\tloss_d_b: 0.05755\tloss_g: 3.76210\n",
            "[41/200][1000/1018]\tloss_d_a: 0.00063\tloss_d_b: 0.02978\tloss_g: 3.17979\n",
            "[42/200][0/1018]\tloss_d_a: 0.00388\tloss_d_b: 0.01587\tloss_g: 3.24524\n",
            "[42/200][500/1018]\tloss_d_a: 0.00003\tloss_d_b: 0.03103\tloss_g: 3.79642\n",
            "[42/200][1000/1018]\tloss_d_a: 0.16868\tloss_d_b: 0.12422\tloss_g: 2.73602\n",
            "[43/200][0/1018]\tloss_d_a: 0.18011\tloss_d_b: 0.08782\tloss_g: 3.42997\n",
            "[43/200][500/1018]\tloss_d_a: 0.00281\tloss_d_b: 0.33821\tloss_g: 2.75832\n",
            "[43/200][1000/1018]\tloss_d_a: 0.00725\tloss_d_b: 0.12086\tloss_g: 3.60467\n",
            "[44/200][0/1018]\tloss_d_a: 0.15627\tloss_d_b: 0.12491\tloss_g: 4.35184\n",
            "[44/200][500/1018]\tloss_d_a: 0.00375\tloss_d_b: 0.17789\tloss_g: 4.55998\n",
            "[44/200][1000/1018]\tloss_d_a: 0.00296\tloss_d_b: 0.17392\tloss_g: 3.26068\n",
            "[45/200][0/1018]\tloss_d_a: 0.01799\tloss_d_b: 0.02544\tloss_g: 3.18144\n",
            "[45/200][500/1018]\tloss_d_a: 0.00232\tloss_d_b: 0.00726\tloss_g: 3.97704\n",
            "[45/200][1000/1018]\tloss_d_a: 0.00013\tloss_d_b: 0.00561\tloss_g: 4.52337\n",
            "[46/200][0/1018]\tloss_d_a: 0.00013\tloss_d_b: 0.02690\tloss_g: 3.92733\n",
            "[46/200][500/1018]\tloss_d_a: 0.00072\tloss_d_b: 0.01904\tloss_g: 4.04150\n",
            "[46/200][1000/1018]\tloss_d_a: 0.00080\tloss_d_b: 0.02561\tloss_g: 3.03186\n",
            "[47/200][0/1018]\tloss_d_a: 0.00051\tloss_d_b: 0.03123\tloss_g: 2.84716\n",
            "[47/200][500/1018]\tloss_d_a: 0.23445\tloss_d_b: 0.09394\tloss_g: 2.39499\n",
            "[47/200][1000/1018]\tloss_d_a: 0.26074\tloss_d_b: 0.09016\tloss_g: 2.83658\n",
            "[48/200][0/1018]\tloss_d_a: 0.17400\tloss_d_b: 0.00684\tloss_g: 3.28659\n",
            "[48/200][500/1018]\tloss_d_a: 0.00242\tloss_d_b: 0.04218\tloss_g: 1.96988\n",
            "[48/200][1000/1018]\tloss_d_a: 0.00304\tloss_d_b: 0.00331\tloss_g: 3.49824\n",
            "[49/200][0/1018]\tloss_d_a: 0.00220\tloss_d_b: 0.06805\tloss_g: 3.61030\n",
            "[49/200][500/1018]\tloss_d_a: 0.00068\tloss_d_b: 0.02636\tloss_g: 4.70042\n",
            "[49/200][1000/1018]\tloss_d_a: 0.00038\tloss_d_b: 0.19712\tloss_g: 2.67873\n",
            "[50/200][0/1018]\tloss_d_a: 0.00149\tloss_d_b: 0.01495\tloss_g: 5.43126\n",
            "[50/200][500/1018]\tloss_d_a: 0.00055\tloss_d_b: 0.04749\tloss_g: 2.96532\n",
            "[50/200][1000/1018]\tloss_d_a: 0.00075\tloss_d_b: 0.00658\tloss_g: 3.72640\n",
            "[51/200][0/1018]\tloss_d_a: 0.00032\tloss_d_b: 0.40133\tloss_g: 2.89235\n",
            "[51/200][500/1018]\tloss_d_a: 0.00002\tloss_d_b: 0.03706\tloss_g: 3.23702\n",
            "[51/200][1000/1018]\tloss_d_a: 0.01252\tloss_d_b: 0.00030\tloss_g: 3.48762\n",
            "[52/200][0/1018]\tloss_d_a: 0.00052\tloss_d_b: 0.00225\tloss_g: 3.82176\n",
            "[52/200][500/1018]\tloss_d_a: 0.00228\tloss_d_b: 0.11136\tloss_g: 3.25095\n",
            "[52/200][1000/1018]\tloss_d_a: 0.01184\tloss_d_b: 0.00412\tloss_g: 3.91553\n",
            "[53/200][0/1018]\tloss_d_a: 0.00089\tloss_d_b: 0.20806\tloss_g: 3.61951\n",
            "[53/200][500/1018]\tloss_d_a: 0.00191\tloss_d_b: 0.00297\tloss_g: 3.72581\n",
            "[53/200][1000/1018]\tloss_d_a: 0.00068\tloss_d_b: 0.08001\tloss_g: 3.77517\n",
            "[54/200][0/1018]\tloss_d_a: 0.00003\tloss_d_b: 0.01681\tloss_g: 3.70430\n",
            "[54/200][500/1018]\tloss_d_a: 0.19980\tloss_d_b: 0.16706\tloss_g: 3.35846\n",
            "[54/200][1000/1018]\tloss_d_a: 0.00407\tloss_d_b: 0.02072\tloss_g: 3.86991\n",
            "[55/200][0/1018]\tloss_d_a: 0.00049\tloss_d_b: 0.03135\tloss_g: 3.53363\n",
            "[55/200][500/1018]\tloss_d_a: 0.00010\tloss_d_b: 0.11418\tloss_g: 2.95462\n",
            "[55/200][1000/1018]\tloss_d_a: 0.00007\tloss_d_b: 0.04234\tloss_g: 3.56132\n",
            "[56/200][0/1018]\tloss_d_a: 0.00007\tloss_d_b: 0.02336\tloss_g: 3.26293\n",
            "[56/200][500/1018]\tloss_d_a: 0.00009\tloss_d_b: 0.02675\tloss_g: 5.54450\n",
            "[56/200][1000/1018]\tloss_d_a: 0.00056\tloss_d_b: 0.07813\tloss_g: 3.76759\n",
            "[57/200][0/1018]\tloss_d_a: 0.00014\tloss_d_b: 0.01596\tloss_g: 4.09047\n",
            "[57/200][500/1018]\tloss_d_a: 0.00091\tloss_d_b: 0.02944\tloss_g: 4.03630\n",
            "[57/200][1000/1018]\tloss_d_a: 0.00062\tloss_d_b: 0.10890\tloss_g: 4.18241\n",
            "[58/200][0/1018]\tloss_d_a: 0.00006\tloss_d_b: 1.36010\tloss_g: 3.16226\n",
            "[58/200][500/1018]\tloss_d_a: 0.00036\tloss_d_b: 0.02999\tloss_g: 4.24209\n",
            "[58/200][1000/1018]\tloss_d_a: 0.00057\tloss_d_b: 0.13033\tloss_g: 4.08631\n",
            "[59/200][0/1018]\tloss_d_a: 0.00071\tloss_d_b: 0.00592\tloss_g: 3.17005\n",
            "[59/200][500/1018]\tloss_d_a: 0.00005\tloss_d_b: 0.03896\tloss_g: 3.03913\n",
            "[59/200][1000/1018]\tloss_d_a: 0.01053\tloss_d_b: 0.04921\tloss_g: 3.13232\n",
            "[60/200][0/1018]\tloss_d_a: 0.00024\tloss_d_b: 0.09308\tloss_g: 3.35499\n",
            "[60/200][500/1018]\tloss_d_a: 0.00228\tloss_d_b: 0.01357\tloss_g: 3.58833\n",
            "[60/200][1000/1018]\tloss_d_a: 0.00025\tloss_d_b: 0.00316\tloss_g: 2.99065\n",
            "[61/200][0/1018]\tloss_d_a: 0.00088\tloss_d_b: 0.00521\tloss_g: 2.94301\n",
            "[61/200][500/1018]\tloss_d_a: 0.00107\tloss_d_b: 0.02498\tloss_g: 3.83036\n",
            "[61/200][1000/1018]\tloss_d_a: 0.00001\tloss_d_b: 0.00869\tloss_g: 4.00586\n",
            "[62/200][0/1018]\tloss_d_a: 0.00435\tloss_d_b: 0.02596\tloss_g: 2.90453\n",
            "[62/200][500/1018]\tloss_d_a: 0.00011\tloss_d_b: 0.04234\tloss_g: 3.15317\n",
            "[62/200][1000/1018]\tloss_d_a: 0.00002\tloss_d_b: 0.02951\tloss_g: 3.33776\n",
            "[63/200][0/1018]\tloss_d_a: 0.00016\tloss_d_b: 0.05356\tloss_g: 3.67077\n",
            "[63/200][500/1018]\tloss_d_a: 0.21681\tloss_d_b: 0.01403\tloss_g: 4.50310\n",
            "[63/200][1000/1018]\tloss_d_a: 0.00060\tloss_d_b: 0.04112\tloss_g: 3.84495\n",
            "[64/200][0/1018]\tloss_d_a: 0.00018\tloss_d_b: 0.00990\tloss_g: 3.23998\n",
            "[64/200][500/1018]\tloss_d_a: 0.00094\tloss_d_b: 0.02658\tloss_g: 3.30860\n",
            "[64/200][1000/1018]\tloss_d_a: 0.00002\tloss_d_b: 0.05768\tloss_g: 3.18800\n",
            "[65/200][0/1018]\tloss_d_a: 0.00092\tloss_d_b: 0.11946\tloss_g: 3.12082\n",
            "[65/200][500/1018]\tloss_d_a: 0.00007\tloss_d_b: 0.03400\tloss_g: 3.61247\n",
            "[65/200][1000/1018]\tloss_d_a: 0.00346\tloss_d_b: 0.02905\tloss_g: 2.98748\n",
            "[66/200][0/1018]\tloss_d_a: 0.00002\tloss_d_b: 0.00761\tloss_g: 3.17796\n",
            "[66/200][500/1018]\tloss_d_a: 0.00081\tloss_d_b: 0.08407\tloss_g: 3.41214\n",
            "[66/200][1000/1018]\tloss_d_a: 0.00092\tloss_d_b: 0.03277\tloss_g: 3.28196\n",
            "[67/200][0/1018]\tloss_d_a: 0.00009\tloss_d_b: 0.11645\tloss_g: 3.93405\n",
            "[67/200][500/1018]\tloss_d_a: 0.00003\tloss_d_b: 0.06194\tloss_g: 3.34412\n",
            "[67/200][1000/1018]\tloss_d_a: 0.00173\tloss_d_b: 0.01549\tloss_g: 3.30754\n",
            "[68/200][0/1018]\tloss_d_a: 0.00094\tloss_d_b: 0.01370\tloss_g: 3.09480\n",
            "[68/200][500/1018]\tloss_d_a: 0.00513\tloss_d_b: 0.06008\tloss_g: 4.74620\n",
            "[68/200][1000/1018]\tloss_d_a: 0.00221\tloss_d_b: 0.02913\tloss_g: 3.98991\n",
            "[69/200][0/1018]\tloss_d_a: 0.00075\tloss_d_b: 0.00903\tloss_g: 4.15200\n",
            "[69/200][500/1018]\tloss_d_a: 0.00303\tloss_d_b: 0.06215\tloss_g: 3.19785\n",
            "[69/200][1000/1018]\tloss_d_a: 0.00311\tloss_d_b: 0.04459\tloss_g: 3.63345\n",
            "[70/200][0/1018]\tloss_d_a: 0.00016\tloss_d_b: 0.10683\tloss_g: 3.30712\n",
            "[70/200][500/1018]\tloss_d_a: 0.00105\tloss_d_b: 0.00658\tloss_g: 3.20782\n",
            "[70/200][1000/1018]\tloss_d_a: 0.00024\tloss_d_b: 0.01782\tloss_g: 3.66514\n",
            "[71/200][0/1018]\tloss_d_a: 0.00028\tloss_d_b: 0.00701\tloss_g: 3.08939\n",
            "[71/200][500/1018]\tloss_d_a: 0.00011\tloss_d_b: 0.01527\tloss_g: 3.03175\n",
            "[71/200][1000/1018]\tloss_d_a: 0.00062\tloss_d_b: 0.01930\tloss_g: 3.81448\n",
            "[72/200][0/1018]\tloss_d_a: 0.00008\tloss_d_b: 0.08465\tloss_g: 3.87811\n",
            "[72/200][500/1018]\tloss_d_a: 0.00019\tloss_d_b: 0.06932\tloss_g: 3.01615\n",
            "[72/200][1000/1018]\tloss_d_a: 0.00025\tloss_d_b: 0.17772\tloss_g: 3.55216\n",
            "[73/200][0/1018]\tloss_d_a: 0.00008\tloss_d_b: 0.08883\tloss_g: 2.77148\n",
            "[73/200][500/1018]\tloss_d_a: 0.00030\tloss_d_b: 0.00598\tloss_g: 4.66710\n",
            "[73/200][1000/1018]\tloss_d_a: 0.00035\tloss_d_b: 0.24041\tloss_g: 2.70333\n",
            "[74/200][0/1018]\tloss_d_a: 0.00021\tloss_d_b: 0.00489\tloss_g: 2.96824\n",
            "[74/200][500/1018]\tloss_d_a: 0.00051\tloss_d_b: 0.01740\tloss_g: 3.80422\n",
            "[74/200][1000/1018]\tloss_d_a: 0.00071\tloss_d_b: 0.05680\tloss_g: 3.47517\n",
            "[75/200][0/1018]\tloss_d_a: 0.00221\tloss_d_b: 0.07904\tloss_g: 3.91004\n",
            "[75/200][500/1018]\tloss_d_a: 0.00047\tloss_d_b: 0.05611\tloss_g: 3.20029\n",
            "[75/200][1000/1018]\tloss_d_a: 0.00189\tloss_d_b: 0.02792\tloss_g: 3.22532\n",
            "[76/200][0/1018]\tloss_d_a: 0.00033\tloss_d_b: 0.11233\tloss_g: 2.72171\n",
            "[76/200][500/1018]\tloss_d_a: 0.00009\tloss_d_b: 0.05873\tloss_g: 3.88353\n",
            "[76/200][1000/1018]\tloss_d_a: 0.00015\tloss_d_b: 0.01534\tloss_g: 3.72475\n",
            "[77/200][0/1018]\tloss_d_a: 0.00004\tloss_d_b: 0.06180\tloss_g: 3.40749\n",
            "[77/200][500/1018]\tloss_d_a: 0.00043\tloss_d_b: 0.00746\tloss_g: 5.02357\n",
            "[77/200][1000/1018]\tloss_d_a: 0.00064\tloss_d_b: 0.24314\tloss_g: 4.30558\n",
            "[78/200][0/1018]\tloss_d_a: 0.00614\tloss_d_b: 0.06819\tloss_g: 4.13337\n",
            "[78/200][500/1018]\tloss_d_a: 0.00002\tloss_d_b: 0.00704\tloss_g: 2.94726\n",
            "[78/200][1000/1018]\tloss_d_a: 0.00001\tloss_d_b: 0.01072\tloss_g: 3.69451\n",
            "[79/200][0/1018]\tloss_d_a: 0.00019\tloss_d_b: 0.07968\tloss_g: 3.21122\n",
            "[79/200][500/1018]\tloss_d_a: 0.00001\tloss_d_b: 0.16139\tloss_g: 3.73750\n",
            "[79/200][1000/1018]\tloss_d_a: 0.00110\tloss_d_b: 0.05452\tloss_g: 4.65682\n",
            "[80/200][0/1018]\tloss_d_a: 0.00048\tloss_d_b: 0.00520\tloss_g: 3.18783\n",
            "[80/200][500/1018]\tloss_d_a: 0.00004\tloss_d_b: 0.02663\tloss_g: 3.71473\n",
            "[80/200][1000/1018]\tloss_d_a: 0.00028\tloss_d_b: 0.00963\tloss_g: 4.41494\n",
            "[81/200][0/1018]\tloss_d_a: 0.00031\tloss_d_b: 0.01620\tloss_g: 3.27745\n",
            "[81/200][500/1018]\tloss_d_a: 0.00001\tloss_d_b: 0.01473\tloss_g: 3.84141\n",
            "[81/200][1000/1018]\tloss_d_a: 0.00002\tloss_d_b: 0.01764\tloss_g: 3.62467\n",
            "[82/200][0/1018]\tloss_d_a: 0.00055\tloss_d_b: 0.16323\tloss_g: 3.18050\n",
            "[82/200][500/1018]\tloss_d_a: 0.00994\tloss_d_b: 0.05559\tloss_g: 4.18674\n",
            "[82/200][1000/1018]\tloss_d_a: 0.00030\tloss_d_b: 0.07372\tloss_g: 3.60847\n",
            "[83/200][0/1018]\tloss_d_a: 0.00005\tloss_d_b: 0.24375\tloss_g: 2.54074\n",
            "[83/200][500/1018]\tloss_d_a: 0.00005\tloss_d_b: 0.01985\tloss_g: 3.52040\n",
            "[83/200][1000/1018]\tloss_d_a: 0.00166\tloss_d_b: 0.10520\tloss_g: 5.21945\n",
            "[84/200][0/1018]\tloss_d_a: 0.00000\tloss_d_b: 0.10164\tloss_g: 2.74162\n",
            "[84/200][500/1018]\tloss_d_a: 0.00006\tloss_d_b: 0.02638\tloss_g: 3.21011\n",
            "[84/200][1000/1018]\tloss_d_a: 0.00041\tloss_d_b: 0.03176\tloss_g: 4.02637\n",
            "[85/200][0/1018]\tloss_d_a: 0.00005\tloss_d_b: 0.02381\tloss_g: 2.97695\n",
            "[85/200][500/1018]\tloss_d_a: 0.00011\tloss_d_b: 0.11480\tloss_g: 3.67414\n",
            "[85/200][1000/1018]\tloss_d_a: 0.00007\tloss_d_b: 0.00400\tloss_g: 3.44519\n",
            "[86/200][0/1018]\tloss_d_a: 0.00023\tloss_d_b: 0.06180\tloss_g: 3.64276\n",
            "[86/200][500/1018]\tloss_d_a: 0.00005\tloss_d_b: 0.05215\tloss_g: 3.01737\n",
            "[86/200][1000/1018]\tloss_d_a: 0.00020\tloss_d_b: 0.14028\tloss_g: 2.72957\n",
            "[87/200][0/1018]\tloss_d_a: 0.00013\tloss_d_b: 0.01094\tloss_g: 3.21620\n",
            "[87/200][500/1018]\tloss_d_a: 0.00000\tloss_d_b: 0.16049\tloss_g: 3.31852\n",
            "[87/200][1000/1018]\tloss_d_a: 0.00014\tloss_d_b: 0.01047\tloss_g: 3.56827\n",
            "[88/200][0/1018]\tloss_d_a: 0.00001\tloss_d_b: 0.00038\tloss_g: 4.68960\n",
            "[88/200][500/1018]\tloss_d_a: 0.00013\tloss_d_b: 0.01836\tloss_g: 3.76856\n",
            "[88/200][1000/1018]\tloss_d_a: 0.00001\tloss_d_b: 0.01837\tloss_g: 3.53283\n",
            "[89/200][0/1018]\tloss_d_a: 0.00000\tloss_d_b: 0.03906\tloss_g: 4.43777\n",
            "[89/200][500/1018]\tloss_d_a: 0.00004\tloss_d_b: 0.02728\tloss_g: 2.93379\n",
            "[89/200][1000/1018]\tloss_d_a: 0.00001\tloss_d_b: 0.01092\tloss_g: 3.32420\n",
            "[90/200][0/1018]\tloss_d_a: 0.00002\tloss_d_b: 0.01536\tloss_g: 3.32188\n",
            "[90/200][500/1018]\tloss_d_a: 0.00001\tloss_d_b: 0.01901\tloss_g: 2.73436\n",
            "[90/200][1000/1018]\tloss_d_a: 0.00003\tloss_d_b: 0.04651\tloss_g: 4.01162\n",
            "[91/200][0/1018]\tloss_d_a: 0.00005\tloss_d_b: 0.01624\tloss_g: 3.47033\n",
            "[91/200][500/1018]\tloss_d_a: 0.00003\tloss_d_b: 0.01004\tloss_g: 3.07958\n",
            "[91/200][1000/1018]\tloss_d_a: 0.00030\tloss_d_b: 0.11850\tloss_g: 3.39062\n",
            "[92/200][0/1018]\tloss_d_a: 0.00001\tloss_d_b: 0.20218\tloss_g: 3.90968\n",
            "[92/200][500/1018]\tloss_d_a: 0.00007\tloss_d_b: 0.01273\tloss_g: 3.68926\n",
            "[92/200][1000/1018]\tloss_d_a: 0.00000\tloss_d_b: 0.05403\tloss_g: 3.05892\n",
            "[93/200][0/1018]\tloss_d_a: 0.00005\tloss_d_b: 0.00106\tloss_g: 3.29076\n",
            "[93/200][500/1018]\tloss_d_a: 0.00001\tloss_d_b: 0.05926\tloss_g: 3.49179\n",
            "[93/200][1000/1018]\tloss_d_a: 0.00003\tloss_d_b: 0.02342\tloss_g: 3.75663\n",
            "[94/200][0/1018]\tloss_d_a: 0.00002\tloss_d_b: 0.01270\tloss_g: 2.93942\n",
            "[94/200][500/1018]\tloss_d_a: 0.00002\tloss_d_b: 0.02082\tloss_g: 2.80830\n",
            "[94/200][1000/1018]\tloss_d_a: 0.00001\tloss_d_b: 0.02992\tloss_g: 3.11286\n",
            "[95/200][0/1018]\tloss_d_a: 0.00000\tloss_d_b: 0.15938\tloss_g: 2.70795\n",
            "[95/200][500/1018]\tloss_d_a: 0.00001\tloss_d_b: 0.00665\tloss_g: 2.93814\n",
            "[95/200][1000/1018]\tloss_d_a: 0.00002\tloss_d_b: 0.00754\tloss_g: 2.62669\n",
            "[96/200][0/1018]\tloss_d_a: 0.00003\tloss_d_b: 0.03206\tloss_g: 3.14831\n",
            "[96/200][500/1018]\tloss_d_a: 0.00009\tloss_d_b: 0.03925\tloss_g: 3.01382\n",
            "[96/200][1000/1018]\tloss_d_a: 0.00001\tloss_d_b: 0.01788\tloss_g: 3.63680\n",
            "[97/200][0/1018]\tloss_d_a: 0.00000\tloss_d_b: 0.03097\tloss_g: 2.74374\n",
            "[97/200][500/1018]\tloss_d_a: 0.00004\tloss_d_b: 0.00509\tloss_g: 3.51608\n",
            "[97/200][1000/1018]\tloss_d_a: 0.00005\tloss_d_b: 0.00997\tloss_g: 3.67892\n",
            "[98/200][0/1018]\tloss_d_a: 0.00001\tloss_d_b: 0.06290\tloss_g: 4.37057\n",
            "[98/200][500/1018]\tloss_d_a: 0.00000\tloss_d_b: 0.02918\tloss_g: 3.50927\n",
            "[98/200][1000/1018]\tloss_d_a: 0.00000\tloss_d_b: 0.01532\tloss_g: 3.49359\n",
            "[99/200][0/1018]\tloss_d_a: 0.00001\tloss_d_b: 0.02696\tloss_g: 3.97968\n",
            "[99/200][500/1018]\tloss_d_a: 0.00000\tloss_d_b: 0.01680\tloss_g: 3.55594\n",
            "[99/200][1000/1018]\tloss_d_a: 0.00000\tloss_d_b: 0.08837\tloss_g: 3.10128\n",
            "[100/200][0/1018]\tloss_d_a: 0.00001\tloss_d_b: 0.08723\tloss_g: 2.67039\n",
            "[100/200][500/1018]\tloss_d_a: 0.00008\tloss_d_b: 0.01890\tloss_g: 4.50072\n",
            "[100/200][1000/1018]\tloss_d_a: 0.00000\tloss_d_b: 0.05093\tloss_g: 2.98749\n",
            "[101/200][0/1018]\tloss_d_a: 0.00007\tloss_d_b: 0.00198\tloss_g: 3.06026\n",
            "[101/200][500/1018]\tloss_d_a: 0.01403\tloss_d_b: 0.01446\tloss_g: 2.37262\n",
            "[101/200][1000/1018]\tloss_d_a: 0.05783\tloss_d_b: 0.04321\tloss_g: 3.17096\n",
            "[102/200][0/1018]\tloss_d_a: 0.06683\tloss_d_b: 0.28299\tloss_g: 4.32210\n",
            "[102/200][500/1018]\tloss_d_a: 38.96875\tloss_d_b: 0.13385\tloss_g: 15.06075\n",
            "[102/200][1000/1018]\tloss_d_a: 144.88916\tloss_d_b: 0.01540\tloss_g: 59.38375\n",
            "[103/200][0/1018]\tloss_d_a: 154.01886\tloss_d_b: 0.02413\tloss_g: 58.70891\n",
            "[103/200][500/1018]\tloss_d_a: 1638.66724\tloss_d_b: 0.01366\tloss_g: 99.36385\n",
            "[103/200][1000/1018]\tloss_d_a: 3747.27173\tloss_d_b: 0.01929\tloss_g: 233.45166\n",
            "[104/200][0/1018]\tloss_d_a: 3679.18213\tloss_d_b: 0.00702\tloss_g: 250.95062\n"
          ],
          "name": "stdout"
        },
        {
          "output_type": "error",
          "ename": "KeyboardInterrupt",
          "evalue": "ignored",
          "traceback": [
            "\u001b[0;31m---------------------------------------------------------------------------\u001b[0m",
            "\u001b[0;31mKeyboardInterrupt\u001b[0m                         Traceback (most recent call last)",
            "\u001b[0;32m<ipython-input-20-16333c69d7e5>\u001b[0m in \u001b[0;36m<module>\u001b[0;34m()\u001b[0m\n\u001b[1;32m     29\u001b[0m     \u001b[0;31m#Total loss\u001b[0m\u001b[0;34m\u001b[0m\u001b[0;34m\u001b[0m\u001b[0;34m\u001b[0m\u001b[0m\n\u001b[1;32m     30\u001b[0m     \u001b[0mloss_g\u001b[0m\u001b[0;34m=\u001b[0m\u001b[0mloss_identity_a\u001b[0m\u001b[0;34m+\u001b[0m\u001b[0mloss_identity_b\u001b[0m\u001b[0;34m+\u001b[0m\u001b[0mloss_GAN_a2b\u001b[0m\u001b[0;34m+\u001b[0m\u001b[0mloss_GAN_b2a\u001b[0m\u001b[0;34m+\u001b[0m\u001b[0mloss_cycle_aba\u001b[0m\u001b[0;34m+\u001b[0m\u001b[0mloss_cycle_bab\u001b[0m\u001b[0;34m\u001b[0m\u001b[0;34m\u001b[0m\u001b[0m\n\u001b[0;32m---> 31\u001b[0;31m     \u001b[0mloss_g\u001b[0m\u001b[0;34m.\u001b[0m\u001b[0mbackward\u001b[0m\u001b[0;34m(\u001b[0m\u001b[0;34m)\u001b[0m\u001b[0;34m\u001b[0m\u001b[0;34m\u001b[0m\u001b[0m\n\u001b[0m\u001b[1;32m     32\u001b[0m     \u001b[0moptimizer_g\u001b[0m\u001b[0;34m.\u001b[0m\u001b[0mstep\u001b[0m\u001b[0;34m(\u001b[0m\u001b[0;34m)\u001b[0m\u001b[0;34m\u001b[0m\u001b[0;34m\u001b[0m\u001b[0m\n\u001b[1;32m     33\u001b[0m \u001b[0;34m\u001b[0m\u001b[0m\n",
            "\u001b[0;32m/usr/local/lib/python3.6/dist-packages/torch/tensor.py\u001b[0m in \u001b[0;36mbackward\u001b[0;34m(self, gradient, retain_graph, create_graph)\u001b[0m\n\u001b[1;32m    164\u001b[0m                 \u001b[0mproducts\u001b[0m\u001b[0;34m.\u001b[0m \u001b[0mDefaults\u001b[0m \u001b[0mto\u001b[0m\u001b[0;31m \u001b[0m\u001b[0;31m`\u001b[0m\u001b[0;31m`\u001b[0m\u001b[0;32mFalse\u001b[0m\u001b[0;31m`\u001b[0m\u001b[0;31m`\u001b[0m\u001b[0;34m.\u001b[0m\u001b[0;34m\u001b[0m\u001b[0;34m\u001b[0m\u001b[0m\n\u001b[1;32m    165\u001b[0m         \"\"\"\n\u001b[0;32m--> 166\u001b[0;31m         \u001b[0mtorch\u001b[0m\u001b[0;34m.\u001b[0m\u001b[0mautograd\u001b[0m\u001b[0;34m.\u001b[0m\u001b[0mbackward\u001b[0m\u001b[0;34m(\u001b[0m\u001b[0mself\u001b[0m\u001b[0;34m,\u001b[0m \u001b[0mgradient\u001b[0m\u001b[0;34m,\u001b[0m \u001b[0mretain_graph\u001b[0m\u001b[0;34m,\u001b[0m \u001b[0mcreate_graph\u001b[0m\u001b[0;34m)\u001b[0m\u001b[0;34m\u001b[0m\u001b[0;34m\u001b[0m\u001b[0m\n\u001b[0m\u001b[1;32m    167\u001b[0m \u001b[0;34m\u001b[0m\u001b[0m\n\u001b[1;32m    168\u001b[0m     \u001b[0;32mdef\u001b[0m \u001b[0mregister_hook\u001b[0m\u001b[0;34m(\u001b[0m\u001b[0mself\u001b[0m\u001b[0;34m,\u001b[0m \u001b[0mhook\u001b[0m\u001b[0;34m)\u001b[0m\u001b[0;34m:\u001b[0m\u001b[0;34m\u001b[0m\u001b[0;34m\u001b[0m\u001b[0m\n",
            "\u001b[0;32m/usr/local/lib/python3.6/dist-packages/torch/autograd/__init__.py\u001b[0m in \u001b[0;36mbackward\u001b[0;34m(tensors, grad_tensors, retain_graph, create_graph, grad_variables)\u001b[0m\n\u001b[1;32m     97\u001b[0m     Variable._execution_engine.run_backward(\n\u001b[1;32m     98\u001b[0m         \u001b[0mtensors\u001b[0m\u001b[0;34m,\u001b[0m \u001b[0mgrad_tensors\u001b[0m\u001b[0;34m,\u001b[0m \u001b[0mretain_graph\u001b[0m\u001b[0;34m,\u001b[0m \u001b[0mcreate_graph\u001b[0m\u001b[0;34m,\u001b[0m\u001b[0;34m\u001b[0m\u001b[0;34m\u001b[0m\u001b[0m\n\u001b[0;32m---> 99\u001b[0;31m         allow_unreachable=True)  # allow_unreachable flag\n\u001b[0m\u001b[1;32m    100\u001b[0m \u001b[0;34m\u001b[0m\u001b[0m\n\u001b[1;32m    101\u001b[0m \u001b[0;34m\u001b[0m\u001b[0m\n",
            "\u001b[0;31mKeyboardInterrupt\u001b[0m: "
          ]
        }
      ]
    },
    {
      "cell_type": "code",
      "metadata": {
        "id": "auq8OvIcXOvl",
        "colab_type": "code",
        "outputId": "69e0b042-11f2-4e95-c85d-d1c51722279d",
        "colab": {
          "base_uri": "https://localhost:8080/",
          "height": 575
        }
      },
      "source": [
        "real_batch=next(iter(dataloader))\n",
        "a=real_batch[0][0].to(device)\n",
        "b=g_a2b(a).detach().cpu()\n",
        "plt.figure(figsize=(10,10))\n",
        "plt.axis(\"off\")\n",
        "plt.imshow(np.transpose(torchvision.utils.make_grid(b[:].to(device), padding=2, normalize=True).cpu(),(1,2,0)))\n",
        "plt.savefig('foo.jpg',bbox_inches='tight',dpi=1200,quality=90)"
      ],
      "execution_count": 0,
      "outputs": [
        {
          "output_type": "display_data",
          "data": {
            "image/png": "[encoded data removed]",
            "text/plain": [
              "<Figure size 720x720 with 1 Axes>"
            ]
          },
          "metadata": {
            "tags": []
          }
        }
      ]
    },
    {
      "cell_type": "code",
      "metadata": {
        "id": "gUZLTs_W3MDq",
        "colab_type": "code",
        "outputId": "f24794f9-4493-4755-871a-921a77418a5c",
        "colab": {
          "base_uri": "https://localhost:8080/",
          "height": 34
        }
      },
      "source": [
        "#model.load_state_dict(state_dict)\n",
        "state_dict=torch.load('d_a.pth')\n",
        "d_a.load_state_dict(state_dict)\n",
        "state_dict=torch.load('d_b.pth')\n",
        "d_b.load_state_dict(state_dict)\n",
        "state_dict=torch.load('g_a2b.pth')\n",
        "g_a2b.load_state_dict(state_dict)\n",
        "state_dict=torch.load('g_b2a.pth')\n",
        "g_b2a.load_state_dict(state_dict)"
      ],
      "execution_count": 0,
      "outputs": [
        {
          "output_type": "execute_result",
          "data": {
            "text/plain": [
              "<All keys matched successfully>"
            ]
          },
          "metadata": {
            "tags": []
          },
          "execution_count": 17
        }
      ]
    },
    {
      "cell_type": "code",
      "metadata": {
        "id": "_X6fk3-9iSOR",
        "colab_type": "code",
        "colab": {}
      },
      "source": [
        ""
      ],
      "execution_count": 0,
      "outputs": []
    }
  ]
}